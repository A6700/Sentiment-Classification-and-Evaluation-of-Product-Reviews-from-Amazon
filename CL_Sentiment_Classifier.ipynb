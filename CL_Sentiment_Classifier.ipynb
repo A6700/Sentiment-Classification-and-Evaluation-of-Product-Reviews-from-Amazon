{
  "nbformat": 4,
  "nbformat_minor": 0,
  "metadata": {
    "colab": {
      "provenance": [],
      "collapsed_sections": [
        "DhoTffMOm1K6"
      ]
    },
    "kernelspec": {
      "name": "python3",
      "display_name": "Python 3"
    },
    "language_info": {
      "name": "python"
    }
  },
  "cells": [
    {
      "cell_type": "markdown",
      "source": [
        "# Sentiment Classification and Evaluation of Product Reviews from Amazon\n",
        "Content\n",
        "\n",
        "\n",
        "1.   Data preprocessing.\n",
        "      *   Tokenization (optional: experiment with lemmatization of the irregular verbs).\n",
        "      *   Compile the type list.\n",
        "      *   Conduct the one-hot encoding.\n",
        "      *   Compile the training dataset and the testing dataset.\n",
        "\n",
        "2.   Set up the baseline and build the classifier.\n",
        "      *   The baseline model: tokenized only by spaces.\n",
        "      *   Model A-D: apply the adjusted data preprocessing methods.\n",
        "\n",
        "3.   Evaluate the classifier.\n",
        "      *   Compute the accuracy, precision, and recall value.\n",
        "      *   Inspect the weights.\n",
        "\n",
        "\n",
        "\n",
        "\n",
        "\n"
      ],
      "metadata": {
        "id": "YSOMTgZAkC52"
      }
    },
    {
      "cell_type": "markdown",
      "source": [
        "# The Baseline Model and Data Preprocessing"
      ],
      "metadata": {
        "id": "eXY5QaaXnVfR"
      }
    },
    {
      "cell_type": "code",
      "source": [
        "# Baseline model (tokenized only by spaces)\n",
        "import numpy as np\n",
        "import matplotlib.pyplot as plt\n",
        "\n",
        "# Import the reviews.\n",
        "!wget https://raw.githubusercontent.com/cbannard/lela60331_24-25/refs/heads/main/coursework/Compiled_Reviews.txt\n",
        "\n",
        "# Create lists.\n",
        "reviews = []\n",
        "sentiment_ratings = []\n",
        "product_types = []\n",
        "helpfulness_ratings = []\n",
        "\n",
        "# Split the text into four categories (reviews, sentiment ratings, product types, and helpfulness ratings) and restore them in separate lists.\n",
        "with open('Compiled_Reviews.txt') as f:\n",
        "    for line in f.readlines()[1:]:\n",
        "        fields = line.rstrip().split('\\t')\n",
        "        reviews.append(fields[0])\n",
        "        sentiment_ratings.append(fields[1])\n",
        "        product_types.append(fields[2])\n",
        "        helpfulness_ratings.append(fields[3])\n",
        "\n",
        "from collections import Counter\n",
        "import re\n",
        "\n",
        "# Tokenize the review only by spaces.\n",
        "token_def = re.compile(\"[^ ]+\")\n",
        "tokenized_sents = [token_def.findall(txt) for txt in reviews]\n",
        "\n",
        "# Restore the tokens in the list.\n",
        "tokens = []\n",
        "for s in tokenized_sents:\n",
        "      tokens.extend(s)\n",
        "\n",
        "# Group the tokens by type and frequency in a dictionary, and sort the items by frequency in a descending order.\n",
        "counts = Counter(tokens)\n",
        "so = sorted(counts.items(), key = lambda item: item[1], reverse = True)\n",
        "# Unpack the sorted dictionary and retrieve the list of keys (i.e., word types) only.\n",
        "so = list(zip(*so))[0]\n",
        "# Select the first 5000 words to compile the type_list.\n",
        "type_list = so[0:5000]\n",
        "\n",
        "# Conduct the one-hot encoding:\n",
        "# Create a 36548 x 5000 matrix of zeros.\n",
        "M = np.zeros((len(reviews), len(type_list)))\n",
        "# Iterate over the reviews.\n",
        "for i, rev in enumerate(reviews):\n",
        "    # Tokenise the current review:\n",
        "    tokens = token_def.findall(rev)\n",
        "    # Iterate over the words in the type_list:\n",
        "    for j, t in enumerate(type_list):\n",
        "        # If the current word j occurs in the current review i then set the matrix element at i, j to be one. Otherwise leave as zero.\n",
        "        if t in tokens:\n",
        "              M[i,j] = 1\n",
        "\n",
        "# Randomly select 80 percent of the reviews as training dataset, and the remaining 20 percent as testing dataset.\n",
        "train_ints = np.random.choice(len(reviews), int(len(reviews) * 0.8), replace=False)\n",
        "test_ints = list(set(range(0, len(reviews))) - set(train_ints))\n",
        "M_train = M[train_ints,]\n",
        "M_test = M[test_ints,]\n",
        "sentiment_train = [sentiment_ratings[i] for i in train_ints]\n",
        "sentiment_test = [sentiment_ratings[i] for i in test_ints]"
      ],
      "metadata": {
        "colab": {
          "base_uri": "https://localhost:8080/"
        },
        "id": "GRXKkGL4t2DK",
        "outputId": "cbcd9aa7-ac1b-4828-c16d-ac68a0907773"
      },
      "execution_count": null,
      "outputs": [
        {
          "metadata": {
            "tags": null
          },
          "name": "stdout",
          "output_type": "stream",
          "text": [
            "--2025-01-15 22:18:07--  https://raw.githubusercontent.com/cbannard/lela60331_24-25/refs/heads/main/coursework/Compiled_Reviews.txt\n",
            "Resolving raw.githubusercontent.com (raw.githubusercontent.com)... 185.199.108.133, 185.199.109.133, 185.199.110.133, ...\n",
            "Connecting to raw.githubusercontent.com (raw.githubusercontent.com)|185.199.108.133|:443... connected.\n",
            "HTTP request sent, awaiting response... 200 OK\n",
            "Length: 22322605 (21M) [text/plain]\n",
            "Saving to: ‘Compiled_Reviews.txt.1’\n",
            "\n",
            "Compiled_Reviews.tx 100%[===================>]  21.29M   110MB/s    in 0.2s    \n",
            "\n",
            "2025-01-15 22:18:08 (110 MB/s) - ‘Compiled_Reviews.txt.1’ saved [22322605/22322605]\n",
            "\n"
          ]
        }
      ]
    },
    {
      "cell_type": "markdown",
      "source": [
        "# Optional: experiment with the lemmatization of irregular verbs"
      ],
      "metadata": {
        "id": "DhoTffMOm1K6"
      }
    },
    {
      "cell_type": "code",
      "source": [
        "# Lists of irregular verbs, the corresponding past tense and past participle for lemmatization (some elements in the list of verbs are repeted in order to match the index to other two lists).\n",
        "verbs = [\n",
        "    'arise', 'be', 'be', 'bear', 'beat', 'begin', 'bend', 'bet', 'bite', 'blow', 'break',\n",
        "    'bring', 'build', 'buy', 'catch', 'choose', 'come', 'cost', 'cut', 'do', 'draw',\n",
        "    'drink', 'drive', 'eat', 'fall', 'feel', 'fight', 'find', 'fly', 'forget', 'get', 'get',\n",
        "    'give', 'go', 'grow', 'hang', 'have', 'hear', 'hide', 'hit', 'hold', 'keep',\n",
        "    'know', 'learn', 'learn', 'leave', 'lend', 'let', 'lie', 'light', 'light', 'lose', 'make', 'mean',\n",
        "    'meet', 'pay', 'put', 'read', 'ride', 'ring', 'rise', 'run', 'say', 'see',\n",
        "    'sell', 'send', 'set', 'sew', 'shake', 'shed', 'shine', 'shoot', 'show', 'shut',\n",
        "    'sing', 'sink', 'sit', 'sleep', 'slide', 'speak', 'spend', 'spin', 'stand', 'steal',\n",
        "    'stick', 'sting', 'stink', 'stride', 'strike', 'swim', 'take', 'teach', 'tear', 'tell',\n",
        "    'think', 'throw', 'understand', 'wake', 'wear', 'weave', 'win', 'write'\n",
        "]\n",
        "\n",
        "past_tense = [\n",
        "    'arose', 'was', 'were', 'bore', 'beat', 'began', 'bent', 'bet', 'bit', 'blew', 'broke',\n",
        "    'brought', 'built', 'bought', 'caught', 'chose', 'came', 'cost', 'cut', 'did', 'drew',\n",
        "    'drank', 'drove', 'ate', 'fell', 'felt', 'fought', 'found', 'flew', 'forgot', 'got', 'got',\n",
        "    'gave', 'went', 'grew', 'hung', 'had', 'heard', 'hid', 'hit', 'held', 'kept',\n",
        "    'knew', 'learned', 'learnt', 'left', 'lent', 'let', 'lay', 'lit', 'lighted', 'lost', 'made', 'meant',\n",
        "    'met', 'paid', 'put', 'read', 'rode', 'rang', 'rose', 'ran', 'said', 'saw',\n",
        "    'sold', 'sent', 'set', 'sewed', 'shook', 'shed', 'shone', 'shot', 'showed', 'shut',\n",
        "    'sang', 'sank', 'sat', 'slept', 'slid', 'spoke', 'spent', 'spun', 'stood', 'stole',\n",
        "    'stuck', 'stung', 'stank', 'strode', 'struck', 'swam', 'took', 'taught', 'tore', 'told',\n",
        "    'thought', 'threw', 'understood', 'woke', 'wore', 'wove', 'won', 'wrote'\n",
        "]\n",
        "\n",
        "past_participle = [\n",
        "    'arisen', 'been', 'been', 'borne', 'beaten', 'begun', 'bent', 'bet', 'bitten', 'blown', 'broken',\n",
        "    'brought', 'built', 'bought', 'caught', 'chosen', 'come', 'cost', 'cut', 'done', 'drawn',\n",
        "    'drunk', 'driven', 'eaten', 'fallen', 'felt', 'fought', 'found', 'flown', 'forgotten', 'gotten', 'got',\n",
        "    'given', 'gone', 'grown', 'hung', 'had', 'heard', 'hidden', 'hit', 'held', 'kept',\n",
        "    'known', 'learned', 'learnt', 'left', 'lent', 'let', 'lain', 'lit', 'lighted', 'lost', 'made', 'meant',\n",
        "    'met', 'paid', 'put', 'read', 'ridden', 'rung', 'risen', 'run', 'said', 'seen',\n",
        "    'sold', 'sent', 'set', 'sewn', 'shaken', 'shed', 'shone', 'shot', 'shown', 'shut',\n",
        "    'sung', 'sunk', 'sat', 'slept', 'slid', 'spoken', 'spent', 'spun', 'stood', 'stolen',\n",
        "    'stuck', 'stung', 'stunk', 'stridden', 'struck', 'swum', 'taken', 'taught', 'torn', 'told',\n",
        "    'thought', 'thrown', 'understood', 'woken', 'worn', 'woven', 'won', 'written'\n",
        "]\n"
      ],
      "metadata": {
        "id": "aqCUA44yEHVc"
      },
      "execution_count": null,
      "outputs": []
    },
    {
      "cell_type": "markdown",
      "source": [
        "# Model A - D and Data Preprocessing"
      ],
      "metadata": {
        "id": "0up3Xtqzm_lU"
      }
    },
    {
      "cell_type": "code",
      "source": [
        "# Adjusted tokenization for Model A-E\n",
        "import numpy as np\n",
        "import matplotlib.pyplot as plt\n",
        "\n",
        "# Import the reviews.\n",
        "!wget https://raw.githubusercontent.com/cbannard/lela60331_24-25/refs/heads/main/coursework/Compiled_Reviews.txt\n",
        "\n",
        "# Create lists.\n",
        "reviews = []\n",
        "sentiment_ratings = []\n",
        "product_types = []\n",
        "helpfulness_ratings = []\n",
        "\n",
        "# Split the text into four categories (reviews, sentiment ratings, product types, and helpfulness ratings) and restore them in separate lists.\n",
        "with open('Compiled_Reviews.txt') as f:\n",
        "    for line in f.readlines()[1:]:\n",
        "        fields = line.rstrip().split('\\t')\n",
        "        reviews.append(fields[0])\n",
        "        sentiment_ratings.append(fields[1])\n",
        "        product_types.append(fields[2])\n",
        "        helpfulness_ratings.append(fields[3])\n",
        "\n",
        "from collections import Counter\n",
        "import re\n",
        "\n",
        "# Compile a list of stopwords to be excluded in the tokens (Reference to the NLTK's list of English stopwords).\n",
        "# <script src=\"https://gist.github.com/sebleier/554280.js\"></script>\n",
        "stopwords = {\n",
        "    'i', 'me', 'my', 'myself', 'we', 'us', 'our', 'ours', 'ourselves', 'you', 'your', 'yours', 'yourself',\n",
        "    'yourselves', 'he', 'him', 'his', 'himself', 'she', 'her', 'hers', 'herself', 'it', 'its', 'itself',\n",
        "    'they', 'them', 'their', 'theirs', 'themselves', 'what', 'which', 'who', 'whom', 'this', 'that',\n",
        "    'these', 'those', 'am', 'is', 'are', 'was', 'were', 'be', 'been', 'being', 'have', 'has', 'had',\n",
        "    'having', 'do', 'does', 'did', 'doing', 'done', 'a', 'an', 'the', 'and', 'but', 'if', 'or', 'because', 'as',\n",
        "    'until', 'while', 'of', 'at', 'by', 'for', 'with', 'about', 'against', 'between', 'into', 'through',\n",
        "    'during', 'before', 'after', 'above', 'below', 'to', 'from', 'up', 'down', 'in', 'out', 'on', 'off',\n",
        "    'over', 'under', 'again', 'further', 'then', 'once', 'here', 'there', 'when', 'where', 'why', 'how',\n",
        "    'all', 'any', 'both', 'each', 'few', 'more', 'most', 'other', 'some', 'such', 'no', 'nor', 'not',\n",
        "    'only', 'own', 'same', 'so', 'than', 'too', 'very', 's', 't', 'just', 'don', 'can', 'cannot', 'will',\n",
        "    'now', 'd', 'll', 'm', 're', 've', 'ain', 'aren', 'didn', 'doesn', 'hadn', 'hasn','would', 'should',\n",
        "    'haven', 'isn', 'wasn', 'weren', 'couldn', 'mightn', 'mustn', 'needn', 'shan', 'shouldn', 'won', 'one',\n",
        "    'wouldn'\n",
        "}\n",
        "\n",
        "# Tokenize the reviews.\n",
        "tokenized_reviews = []\n",
        "for review in reviews:\n",
        "    # Unify the review to be lower cases.\n",
        "    review = review.lower()\n",
        "    # Remove numbers and non-word characters (including punctuations) and select words of at lease two characters (as the only valid one-character words 'I' and 'a' are stopwords).\n",
        "    tokenized_reviews.append([w for w in re.findall('[^ \\d\\W]{2,}', review) if w and not w in stopwords])\n",
        "\n",
        "# Restore the tokenized reviews in a list.\n",
        "tokens = []\n",
        "for i in range(len(tokenized_reviews)):\n",
        "    for j in range(len(tokenized_reviews[i])):\n",
        "        # When experimenting on mapping irregular verbs to their original forms, uncomment the following lines (two for-loops).\n",
        "        # for s, t in enumerate(past_tense):\n",
        "        #     if tokenized_reviews[i][j] == t:\n",
        "        #         tokenized_reviews[i][j] = verbs[s]\n",
        "        # for s, t in enumerate(past_participle):\n",
        "        #     if tokenized_reviews[i][j] == t:\n",
        "        #         tokenized_reviews[i][j] = verbs[s]\n",
        "        tokens.append(tokenized_reviews[i][j])\n",
        "\n",
        "# Group the tokens by type and frequency in a dictionary, and sort the items by frequency in a descending order.\n",
        "counts = Counter(tokens)\n",
        "so = sorted(counts.items(), key = lambda item: item[1], reverse = True)\n",
        "# Check the type list for the first 1000 words (for example).\n",
        "so[0:1000]\n",
        "# Unpack the sorted dictionary and retrieve the list of keys (i.e., word types) only.\n",
        "so = list(zip(*so))[0]\n",
        "# Select the first 1000 words to compile the type_list (the number can be adjusted to 5000 words here).\n",
        "type_list = so[0:1000]\n",
        "\n",
        "# Conduct the one-hot encoding:\n",
        "# Create a 36458 x 1000 matrix of zeros.\n",
        "M = np.zeros((len(reviews), len(type_list)))\n",
        "# Iterate over the reviews.\n",
        "for i, rev in enumerate(tokenized_reviews):\n",
        "    # iterate over the words in the type list (1000 words):\n",
        "    for j, t in enumerate(type_list):\n",
        "        # If the current word j occurs in the current review i then set the matrix element at i, j to be one. Otherwise leave as zero.\n",
        "        if t in tokenized_reviews[i]:\n",
        "              M[i, j] = 1\n",
        "\n",
        "# Randomly select 80 percent of the reviews as training dataset, and the remaining 20 percent as testing dataset.\n",
        "train_ints = np.random.choice(len(reviews), int(len(reviews) * 0.8), replace=False)\n",
        "test_ints = list(set(range(0, len(reviews))) - set(train_ints))\n",
        "M_train = M[train_ints,]\n",
        "M_test = M[test_ints,]\n",
        "sentiment_train = [sentiment_ratings[i] for i in train_ints]\n",
        "sentiment_test = [sentiment_ratings[i] for i in test_ints]"
      ],
      "metadata": {
        "colab": {
          "base_uri": "https://localhost:8080/"
        },
        "id": "WEDW7hgN7uV7",
        "outputId": "f2bf095a-a29e-4df0-9ed4-8f3c071d39e0"
      },
      "execution_count": null,
      "outputs": [
        {
          "output_type": "stream",
          "name": "stdout",
          "text": [
            "--2025-01-15 22:24:29--  https://raw.githubusercontent.com/cbannard/lela60331_24-25/refs/heads/main/coursework/Compiled_Reviews.txt\n",
            "Resolving raw.githubusercontent.com (raw.githubusercontent.com)... 185.199.108.133, 185.199.109.133, 185.199.110.133, ...\n",
            "Connecting to raw.githubusercontent.com (raw.githubusercontent.com)|185.199.108.133|:443... connected.\n",
            "HTTP request sent, awaiting response... 200 OK\n",
            "Length: 22322605 (21M) [text/plain]\n",
            "Saving to: ‘Compiled_Reviews.txt.2’\n",
            "\n",
            "Compiled_Reviews.tx 100%[===================>]  21.29M   107MB/s    in 0.2s    \n",
            "\n",
            "2025-01-15 22:24:30 (107 MB/s) - ‘Compiled_Reviews.txt.2’ saved [22322605/22322605]\n",
            "\n"
          ]
        }
      ]
    },
    {
      "cell_type": "code",
      "source": [
        "# Check the shape of the matrix before conducting logistic regressions.\n",
        "M.shape"
      ],
      "metadata": {
        "colab": {
          "base_uri": "https://localhost:8080/"
        },
        "id": "I5N8Oba4Rm0k",
        "outputId": "a6e679e3-808a-4b35-c967-062e919c9706"
      },
      "execution_count": null,
      "outputs": [
        {
          "output_type": "execute_result",
          "data": {
            "text/plain": [
              "(36548, 1000)"
            ]
          },
          "metadata": {},
          "execution_count": 6
        }
      ]
    },
    {
      "cell_type": "markdown",
      "source": [
        "# Build a Logistic Regression Model for Binary Classification of Sentiments"
      ],
      "metadata": {
        "id": "cioNgV5pntnM"
      }
    },
    {
      "cell_type": "code",
      "source": [
        "# Build a logistic regression model.\n",
        "import math\n",
        "\n",
        "num_features = len(type_list)\n",
        "# Mark positive reviews as 1 and negative reviews as 0.\n",
        "y = [int(l == \"positive\") for l in sentiment_train]\n",
        "# Randomize the weights and bias before training.\n",
        "weights = np.random.rand(num_features)\n",
        "bias = np.random.rand(1)\n",
        "# Set the number of iterations or epochs here.\n",
        "n_iters = 2500\n",
        "# Set the learning rates.\n",
        "lr = 0.2\n",
        "logistic_loss = []\n",
        "num_samples = len(y)\n",
        "for i in range(n_iters):\n",
        "    z = M_train.dot(weights) + bias\n",
        "    # Compute the probabilities.\n",
        "    q = 1 / (1 + np.exp(-z))\n",
        "    # Avoid log(0) for numerical stability.\n",
        "    eps = 0.00001\n",
        "    # Compute the binary cross-entropy loss.\n",
        "    loss = -sum((y * np.log2(q + eps) + (np.ones(len(y)) - y) * np.log2(np.ones(len(y)) - q + eps)))\n",
        "    # Restore the loss of each iteration.\n",
        "    logistic_loss.append(loss)\n",
        "\n",
        "    # Compute the derivatives of weights and bias.\n",
        "    dw = ((q - y).dot(M_train) * (1 / num_samples))\n",
        "    db = sum((q - y)) / num_samples\n",
        "    # Update the weights and bias.\n",
        "    weights = weights - lr * dw\n",
        "    bias = bias - lr * db\n",
        "\n",
        "# Plot the logistic loss related to number of epochs.\n",
        "plt.plot(range(1, n_iters), logistic_loss[1: ])\n",
        "plt.xlabel(\"number of epochs\")\n",
        "plt.ylabel(\"loss\")"
      ],
      "metadata": {
        "colab": {
          "base_uri": "https://localhost:8080/",
          "height": 466
        },
        "id": "gFQ9CGjvOZHF",
        "outputId": "38f66d83-6e34-4460-d058-e8c24f12a661"
      },
      "execution_count": null,
      "outputs": [
        {
          "output_type": "execute_result",
          "data": {
            "text/plain": [
              "Text(0, 0.5, 'loss')"
            ]
          },
          "metadata": {},
          "execution_count": 7
        },
        {
          "output_type": "display_data",
          "data": {
            "text/plain": [
              "<Figure size 640x480 with 1 Axes>"
            ],
            "image/png": "[encoded data removed]"
          },
          "metadata": {}
        }
      ]
    },
    {
      "cell_type": "markdown",
      "source": [
        "# Evaluations of the Model"
      ],
      "metadata": {
        "id": "mskuXMyuoK0L"
      }
    },
    {
      "cell_type": "code",
      "source": [
        "z = M_train.dot(weights) + bias\n",
        "q = 1 / (1 + np.exp(-z))\n",
        "# Convert probabilities and sentiments to binary labels (0 or 1) for classification.\n",
        "y_train_pred = [int(ql > 0.5) for ql in q]\n",
        "y_train = [int(l == \"positive\") for l in sentiment_train]\n",
        "# Compute and print the accuracy value for the training dataset.\n",
        "acc_train = [int(yp == y_train[s]) for s, yp in enumerate(y_train_pred)]\n",
        "print(f'accuracy_train = {sum(acc_train) / len(acc_train)}')"
      ],
      "metadata": {
        "colab": {
          "base_uri": "https://localhost:8080/"
        },
        "id": "Ai1zxXVIaXzg",
        "outputId": "808250f7-25e9-4878-b512-185316da4e83"
      },
      "execution_count": null,
      "outputs": [
        {
          "output_type": "stream",
          "name": "stdout",
          "text": [
            "accuracy_train = 0.818968465695328\n"
          ]
        }
      ]
    },
    {
      "cell_type": "code",
      "source": [
        "# Calculate and print the precision and recall value of the training dataset.\n",
        "z = M_train.dot(weights) + bias\n",
        "q = 1 / (1 + np.exp(-z))\n",
        "y_train_pred = [int(ql > 0.5) for ql in q]\n",
        "sentiment_train_pred = [\"positive\" if s == 1 else \"negative\" for s in y_train_pred]\n",
        "\n",
        "true_positives = sum([int(yp == \"positive\" and sentiment_train[s] == \"positive\") for s, yp in enumerate(sentiment_train_pred)])\n",
        "false_positives = sum([int(yp == \"positive\" and sentiment_train[s] == \"negative\") for s, yp in enumerate(sentiment_train_pred)])\n",
        "false_negatives = sum([int(yp == \"negative\" and sentiment_train[s] == \"positive\") for s, yp in enumerate(sentiment_train_pred)])\n",
        "precision_train = true_positives / (true_positives + false_positives)\n",
        "recall_train = true_positives / (true_positives + false_negatives)\n",
        "print(f'precision_train = {precision_train}')\n",
        "print(f'recall_train = {recall_train}')"
      ],
      "metadata": {
        "colab": {
          "base_uri": "https://localhost:8080/"
        },
        "id": "m7Bo2qI8aW8h",
        "outputId": "88d5576f-7bd0-48ea-ffc2-444409f6f281"
      },
      "execution_count": null,
      "outputs": [
        {
          "output_type": "stream",
          "name": "stdout",
          "text": [
            "precision_train = 0.8309793933780968\n",
            "recall_train = 0.8581505170661725\n"
          ]
        }
      ]
    },
    {
      "cell_type": "code",
      "source": [
        "# Calculate and print the accuracy value for the testing dataset.\n",
        "z = M_test.dot(weights) + bias\n",
        "q = 1 / (1 + np.exp(-z))\n",
        "y_test_pred = [int(ql > 0.5) for ql in q]\n",
        "y_test = [int(l == \"positive\") for l in sentiment_test]\n",
        "acc_test = [int(yp == y_test[s]) for s, yp in enumerate(y_test_pred)]\n",
        "print(f'accuracy_test = {sum(acc_test) / len(acc_test)}')"
      ],
      "metadata": {
        "id": "NJ3hTYWKPUtC",
        "colab": {
          "base_uri": "https://localhost:8080/"
        },
        "outputId": "cca96eed-f3c4-46d3-d50e-78bc8e887965"
      },
      "execution_count": null,
      "outputs": [
        {
          "output_type": "stream",
          "name": "stdout",
          "text": [
            "accuracy_test = 0.8179206566347469\n"
          ]
        }
      ]
    },
    {
      "cell_type": "code",
      "source": [
        "# Compute and print the precision and recall value for the testing dataset.\n",
        "sentiment_test_pred = [\"positive\" if s == 1 else \"negative\" for s in y_test_pred]\n",
        "true_positives = sum([int(yp == \"positive\" and sentiment_test[s] == \"positive\") for s, yp in enumerate(sentiment_test_pred)])\n",
        "false_positives = sum([int(yp == \"positive\" and sentiment_test[s] == \"negative\") for s, yp in enumerate(sentiment_test_pred)])\n",
        "false_negatives = sum([int(yp == \"negative\" and sentiment_test[s] == \"positive\") for s, yp in enumerate(sentiment_test_pred)])\n",
        "precision_test = true_positives / (true_positives + false_positives)\n",
        "recall_test = true_positives / (true_positives + false_negatives)\n",
        "print(f'precision_test = {precision_test}')\n",
        "print(f'recall_test = {recall_test}')"
      ],
      "metadata": {
        "id": "WF4Hx2UlPeoI",
        "colab": {
          "base_uri": "https://localhost:8080/"
        },
        "outputId": "6a6c7eb7-7b3d-491f-f440-7f669722bf99"
      },
      "execution_count": null,
      "outputs": [
        {
          "output_type": "stream",
          "name": "stdout",
          "text": [
            "precision_test = 0.8334860284012826\n",
            "recall_test = 0.8576478906434126\n"
          ]
        }
      ]
    },
    {
      "cell_type": "code",
      "source": [
        "# Print the list of 20 words of highest weights on negative sentiments.\n",
        "[type_list[x] for x in np.argsort(weights)[0:20]]"
      ],
      "metadata": {
        "id": "GOkQ02lpPlNs",
        "colab": {
          "base_uri": "https://localhost:8080/"
        },
        "outputId": "c375563b-9087-4a69-e455-8b7fad981896"
      },
      "execution_count": null,
      "outputs": [
        {
          "output_type": "execute_result",
          "data": {
            "text/plain": [
              "['disappointed',\n",
              " 'return',\n",
              " 'worst',\n",
              " 'waste',\n",
              " 'poor',\n",
              " 'returned',\n",
              " 'unfortunately',\n",
              " 'unless',\n",
              " 'boring',\n",
              " 'bad',\n",
              " 'horrible',\n",
              " 'worse',\n",
              " 'support',\n",
              " 'nothing',\n",
              " 'instead',\n",
              " 'money',\n",
              " 'idea',\n",
              " 'useless',\n",
              " 'ok',\n",
              " 'terrible']"
            ]
          },
          "metadata": {},
          "execution_count": 13
        }
      ]
    },
    {
      "cell_type": "code",
      "source": [
        "# Print the list of 20 words of highest weights on positive sentiments.\n",
        "[type_list[x] for x in np.argsort(weights)[::-1][0:20]]"
      ],
      "metadata": {
        "id": "6wdkffCaPoui",
        "colab": {
          "base_uri": "https://localhost:8080/"
        },
        "outputId": "ea3b6fba-354f-470f-e0a1-75a2b1a5e478"
      },
      "execution_count": null,
      "outputs": [
        {
          "output_type": "execute_result",
          "data": {
            "text/plain": [
              "['excellent',\n",
              " 'perfect',\n",
              " 'pleased',\n",
              " 'easy',\n",
              " 'amazing',\n",
              " 'awesome',\n",
              " 'best',\n",
              " 'grill',\n",
              " 'wonderful',\n",
              " 'love',\n",
              " 'loves',\n",
              " 'favorite',\n",
              " 'great',\n",
              " 'highly',\n",
              " 'comfortable',\n",
              " 'fantastic',\n",
              " 'enjoy',\n",
              " 'perfectly',\n",
              " 'pen',\n",
              " 'job']"
            ]
          },
          "metadata": {},
          "execution_count": 15
        }
      ]
    }
  ]
}